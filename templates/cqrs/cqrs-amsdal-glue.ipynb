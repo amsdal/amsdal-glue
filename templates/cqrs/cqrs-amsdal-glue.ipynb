{
 "cells": [
  {
   "metadata": {},
   "cell_type": "markdown",
   "source": [
    "# CQRS AMSDAL Glue\n",
    "\n",
    "## Install python requirements"
   ],
   "id": "2683abc9e4473f07"
  },
  {
   "metadata": {},
   "cell_type": "code",
   "outputs": [],
   "execution_count": null,
   "source": "!pip install \"amsdal-glue[postgres-binar]\"",
   "id": "869369773503006"
  },
  {
   "metadata": {},
   "cell_type": "markdown",
   "source": "## Initialize the AMSDAL Glue",
   "id": "a2e5ae1a694db131"
  },
  {
   "metadata": {},
   "cell_type": "code",
   "outputs": [],
   "execution_count": null,
   "source": [
    "from amsdal_glue.pipelines.containers import Pipeline, SubContainer\n",
    "from amsdal_glue import init_default_containers, Container\n",
    "from amsdal_glue.interfaces import DataQueryService, DataCommandService\n",
    "\n",
    "# Init the default containers\n",
    "init_default_containers()\n",
    "\n",
    "init_sqrc_containrs()\n",
    "\n",
    "# Init \"write\" and \"read\" containers\n",
    "pipeline = Pipeline()\n",
    "write_container = SubContainer()\n",
    "read_container = SubContainer()\n",
    "read_container.executors.register(BackgroundExecutor, ...)\n",
    "\n",
    "pipeline.registry.register('write', write_container)\n",
    "pipeline.registry.register('read', read_container)\n",
    "\n",
    "\n",
    "# Specify pipelines of containers per service type\n",
    "pipeline.register(\n",
    "    DataQueryService,\n",
    "    ['read'],\n",
    ")\n",
    "\n",
    "pipeline.register(\n",
    "    DataCommandService,\n",
    "    ['write', 'read'],\n",
    ")\n",
    "\n",
    "# Usage\n",
    "data_query_service = Container.services.get(DataQueryService)\n",
    "data_query_service.execute(...) # Will use the \"read\" container for the query\n",
    "\n",
    "data_command_service = Container.services.get(DataCommandService)\n",
    "data_command_service.execute(...) # Will use the \"write\" container for the command, and then the \"read\" container with the same command, although using the own services, executors and connections\n"
   ],
   "id": "a85900cb9592dcaf"
  }
 ],
 "metadata": {
  "kernelspec": {
   "display_name": "Python 3",
   "language": "python",
   "name": "python3"
  },
  "language_info": {
   "codemirror_mode": {
    "name": "ipython",
    "version": 2
   },
   "file_extension": ".py",
   "mimetype": "text/x-python",
   "name": "python",
   "nbconvert_exporter": "python",
   "pygments_lexer": "ipython2",
   "version": "2.7.6"
  }
 },
 "nbformat": 4,
 "nbformat_minor": 5
}
