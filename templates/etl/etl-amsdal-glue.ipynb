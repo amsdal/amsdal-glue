{
 "cells": [
  {
   "cell_type": "markdown",
   "id": "4d625bc2ffdefee8",
   "metadata": {},
   "source": [
    "# ETL with AMSDAL Glue\n",
    "\n",
    "This notebook demonstrates how to use AWS Glue to extract, transform, and load (ETL) data from two sources (sqlite databases) to third one (sqlite database as well).\n",
    "\n",
    "The data sources are:\n",
    "- `data/countries.db` - contains the `countries` table with countries and their population\n",
    "- `data/cities.db` - contains the `cities` table cities and their population\n",
    "\n",
    "The structure of the `countries` table is:\n",
    "\n",
    "| Field | Type |\n",
    "| --- | --- |\n",
    "| country code | TEXT |\n",
    "| population | INTEGER |\n",
    "\n",
    "The structure of the `cities` table is:\n",
    "\n",
    "| Field | Type |\n",
    "| --- | --- |\n",
    "| Country | TEXT |\n",
    "| City | TEXT |\n",
    "| CityPopulation | INTEGER |\n",
    "\n",
    "The resulting database will be `dist/summary.db` and it will contain the following \n",
    " `summary` table:\n",
    " \n",
    " | Field | Type |\n",
    " | --- | --- |\n",
    " | country_name | TEXT |\n",
    " | city_population | INTEGER |\n",
    " | non_city_population | INTEGER |\n",
    "\n",
    "So, the `country_name` and `city_population` we can take from the `cities` table directly, but the `non_city_population` we need to calculate as the difference between the total population of the country and the sum of the populations of all cities in that country.\n",
    "\n",
    "Let's start by installing `amsdal-glue`:"
   ]
  },
  {
   "cell_type": "markdown",
   "id": "e5bae240df470ddd",
   "metadata": {},
   "source": []
  },
  {
   "cell_type": "code",
   "execution_count": null,
   "id": "5e3cadccb8446d8b",
   "metadata": {},
   "outputs": [],
   "source": [
    "!pip install \"amsdal-glue\""
   ]
  },
  {
   "cell_type": "markdown",
   "id": "3e214d1922424012",
   "metadata": {},
   "source": [
    "## Extract the data\n",
    "\n",
    "The first step is to extract the data from the `countries` and `cities` tables. To do this we need to initiate AMSDAL Glue and setup connections to sources."
   ]
  },
  {
   "cell_type": "code",
   "execution_count": null,
   "id": "6a2b36247e6ef802",
   "metadata": {
    "ExecuteTime": {
     "end_time": "2024-09-02T15:30:27.617874Z",
     "start_time": "2024-09-02T15:30:27.462088Z"
    }
   },
   "outputs": [],
   "source": [
    "from amsdal_glue import init_default_containers\n",
    "\n",
    "init_default_containers()"
   ]
  },
  {
   "cell_type": "code",
   "execution_count": null,
   "id": "f35676c11ded56a7",
   "metadata": {
    "ExecuteTime": {
     "end_time": "2024-09-02T15:32:26.074094Z",
     "start_time": "2024-09-02T15:32:26.067525Z"
    }
   },
   "outputs": [],
   "source": [
    "import os\n",
    "from pathlib import Path\n",
    "from amsdal_glue import Container, ConnectionManager, DefaultConnectionPool, SqliteConnection\n",
    "\n",
    "BASE_DIR = Path(os.getcwd())\n",
    "\n",
    "countries_db_pool = DefaultConnectionPool(\n",
    "    SqliteConnection,\n",
    "    db_path=BASE_DIR / \"data/countries.db\",\n",
    ")\n",
    "\n",
    "cities_db_pool = DefaultConnectionPool(\n",
    "    SqliteConnection,\n",
    "    db_path=BASE_DIR / \"data/cities.db\",\n",
    ")\n",
    "\n",
    "summary_db_pool = DefaultConnectionPool(\n",
    "    SqliteConnection,\n",
    "    db_path=BASE_DIR / \"dist/summary.db\",\n",
    ")\n",
    "\n",
    "connection_mng = Container.managers.get(ConnectionManager)\n",
    "connection_mng.register_connection_pool(countries_db_pool, schema_name=\"countries\")\n",
    "connection_mng.register_connection_pool(cities_db_pool, schema_name=\"cities\")\n",
    "connection_mng.register_connection_pool(summary_db_pool)\n",
    "\n",
    "print('Done!')"
   ]
  },
  {
   "cell_type": "markdown",
   "id": "7b752f09cbdcfb22",
   "metadata": {},
   "source": [
    "## Transform the data\n",
    "\n",
    "The next step in ETL is to transform the data.\n",
    "\n",
    "Although, let's first of all investigate the data in the `countries` and `cities` tables to understand the structure of the data."
   ]
  },
  {
   "cell_type": "code",
   "execution_count": null,
   "id": "12e701e550938f2a",
   "metadata": {
    "ExecuteTime": {
     "end_time": "2024-09-02T15:31:49.333521Z",
     "start_time": "2024-09-02T15:31:48.718823Z"
    }
   },
   "outputs": [],
   "source": [
    "from amsdal_glue import Container, DataQueryOperation, QueryStatement, SchemaReference, Version\n",
    "from amsdal_glue.interfaces import DataQueryService\n",
    "from pprint import pprint\n",
    "\n",
    "service = Container.services.get(DataQueryService)\n",
    "\n",
    "countries_query = QueryStatement(\n",
    "    table=SchemaReference(name=\"countries\", version=Version.LATEST),\n",
    ")\n",
    "cities_query = QueryStatement(\n",
    "    table=SchemaReference(name=\"cities\", version=Version.LATEST),\n",
    ")\n",
    "\n",
    "countries_result = service.execute(DataQueryOperation(query=countries_query))\n",
    "cities_result = service.execute(DataQueryOperation(query=cities_query))\n",
    "\n",
    "print('Countries (first 5 records):')\n",
    "pprint(countries_result.data[:5])\n",
    "print('\\nCities (first 5 records):')\n",
    "pprint(cities_result.data[:5])"
   ]
  },
  {
   "cell_type": "markdown",
   "id": "b72105928f0e9e93",
   "metadata": {},
   "source": [
    "Perfect! \n",
    "We can see that the `countries` table contains the country code, however, the `cities` table contains the country name. In order to join the tables we need to transform the `cities` table to have the same country code as the `countries` table.\n",
    "\n",
    "### Create countries code mapping\n",
    "\n",
    "Let's create a table with the country code mapping from the `countries.json` file."
   ]
  },
  {
   "cell_type": "code",
   "execution_count": null,
   "id": "f635e8c7df792006",
   "metadata": {
    "ExecuteTime": {
     "end_time": "2024-09-02T15:32:32.352750Z",
     "start_time": "2024-09-02T15:32:32.344488Z"
    }
   },
   "outputs": [],
   "source": [
    "from amsdal_glue import Container, SchemaCommand, RegisterSchema, Version, IndexSchema\n",
    "from amsdal_glue.interfaces import SchemaCommandService\n",
    "from amsdal_glue import Schema, PropertySchema, PrimaryKeyConstraint\n",
    "\n",
    "countries_map_schema = Schema(\n",
    "    name=\"countries_map\",\n",
    "    version=Version.LATEST,\n",
    "    properties=[\n",
    "        PropertySchema(\n",
    "            name=\"country_code\",\n",
    "            type=str,\n",
    "            required=True,\n",
    "        ),\n",
    "        PropertySchema(\n",
    "            name=\"country_name\",\n",
    "            type=str,\n",
    "            required=True,\n",
    "        ),\n",
    "    ],\n",
    "    constraints=[\n",
    "        PrimaryKeyConstraint(name=\"pk_country_map\", fields=[\"country_code\", \"country_name\"]),\n",
    "    ],\n",
    "    indexes=[\n",
    "        IndexSchema(name=\"idx_country_name\", fields=[\"country_name\"]),\n",
    "    ],\n",
    ")\n",
    "\n",
    "service = Container.services.get(SchemaCommandService)\n",
    "result = service.execute(\n",
    "    SchemaCommand(\n",
    "        mutations=[\n",
    "            RegisterSchema(schema=countries_map_schema),\n",
    "        ]\n",
    "    ),\n",
    ")\n",
    "\n",
    "print('Success:', result.success)\n",
    "print('Error details:', result.message)"
   ]
  },
  {
   "cell_type": "markdown",
   "id": "a98d90f987e69bdb",
   "metadata": {},
   "source": [
    "And now let's fill this table with data from the `countries.json` file."
   ]
  },
  {
   "cell_type": "code",
   "execution_count": null,
   "id": "167da88aecafcf11",
   "metadata": {},
   "outputs": [],
   "source": [
    "import json\n",
    "import os\n",
    "from pathlib import Path\n",
    "from amsdal_glue import Container, DataCommand, InsertData, Version, Data, SchemaReference\n",
    "from amsdal_glue.interfaces import DataCommandService\n",
    "\n",
    "BASE_DIR = Path(os.getcwd())\n",
    "\n",
    "with open(BASE_DIR / \"data/countries.json\") as f:\n",
    "    _countries_map = json.load(f)\n",
    "    data = [\n",
    "        Data(\n",
    "            data={\n",
    "                \"country_code\": _code,\n",
    "                \"country_name\": _name,\n",
    "            }\n",
    "        )\n",
    "        for _code, _name in _countries_map.items()\n",
    "    ]\n",
    "\n",
    "service = Container.services.get(DataCommandService)\n",
    "result = service.execute(\n",
    "    DataCommand(\n",
    "        mutations=[\n",
    "            InsertData(\n",
    "                schema=SchemaReference(name=\"countries_map\", version=Version.LATEST),\n",
    "                data=data,\n",
    "            ),\n",
    "        ],\n",
    "    ),\n",
    ")\n",
    "\n",
    "print('Success:', result.success)\n",
    "print('Error details:', result.message)"
   ]
  },
  {
   "cell_type": "markdown",
   "id": "4636ec81e96860e6",
   "metadata": {},
   "source": [
    "OK, now we are ready to transform the `cities` table to have the country code column:"
   ]
  },
  {
   "cell_type": "code",
   "execution_count": null,
   "id": "733da7bf98c79e94",
   "metadata": {},
   "outputs": [],
   "source": [
    "from amsdal_glue import (\n",
    "    QueryStatement,\n",
    "    Version,\n",
    "    SchemaReference,\n",
    "    JoinQuery,\n",
    "    JoinType,\n",
    "    FieldReference,\n",
    "    FieldReferenceAliased,\n",
    "    Field,\n",
    "    Conditions,\n",
    "    Condition,\n",
    "    FieldLookup,\n",
    ")\n",
    "from amsdal_glue_core.common.expressions.field_reference import FieldReferenceExpression\n",
    "\n",
    "cities_with_country_code_query = QueryStatement(\n",
    "    only=[\n",
    "        FieldReferenceAliased(field=Field(name=\"country_code\"), table_name=\"cm\", alias=\"country_code\"),\n",
    "        FieldReferenceAliased(field=Field(name=\"Country\"), table_name=\"c\", alias=\"country_name\"),\n",
    "        FieldReferenceAliased(field=Field(name=\"City\"), table_name=\"c\", alias=\"city_name\"),\n",
    "        FieldReferenceAliased(field=Field(name=\"CityPopulation\"), table_name=\"c\", alias=\"city_population\"),\n",
    "    ],\n",
    "    table=SchemaReference(name=\"cities\", alias=\"c\", version=Version.LATEST),\n",
    "    joins=[\n",
    "        JoinQuery(\n",
    "            table=SchemaReference(name=\"countries_map\", alias=\"cm\", version=Version.LATEST),\n",
    "            join_type=JoinType.LEFT,\n",
    "            on=Conditions(\n",
    "                Condition(\n",
    "                    left=FieldReferenceExpression(field_reference=FieldReference(field=Field(name=\"country_name\"), table_name=\"cm\")),\n",
    "                    lookup=FieldLookup.EQ,\n",
    "                    right=FieldReferenceExpression(field_reference=FieldReference(field=Field(name=\"Country\"), table_name=\"c\")),\n",
    "                ),\n",
    "            ),\n",
    "        ),\n",
    "    ],\n",
    ")\n",
    "print(\"Query is defined!\")"
   ]
  },
  {
   "cell_type": "markdown",
   "id": "23cb16bb0ba95830",
   "metadata": {},
   "source": [
    "Let's check the result of the query:"
   ]
  },
  {
   "cell_type": "code",
   "execution_count": null,
   "id": "8c6ddf6312dea114",
   "metadata": {},
   "outputs": [],
   "source": [
    "from amsdal_glue import Container, DataQueryOperation\n",
    "from amsdal_glue.interfaces import DataQueryService\n",
    "\n",
    "service = Container.services.get(DataQueryService)\n",
    "result = service.execute(DataQueryOperation(query=cities_with_country_code_query))\n",
    "\n",
    "print('Success:', result.success)\n",
    "\n",
    "if not result.success:\n",
    "    print('Error:', result.message)\n",
    "else:\n",
    "    print('Found records (the first 5):', result.data[:5])"
   ]
  },
  {
   "cell_type": "markdown",
   "id": "fe3b5578d202ecd0",
   "metadata": {},
   "source": [
    "Perfect!\n",
    "Now, let's build subquery to calculate the SUM of the city populations for each country:"
   ]
  },
  {
   "cell_type": "code",
   "execution_count": null,
   "id": "1a37e4e9ebdda83",
   "metadata": {},
   "outputs": [],
   "source": [
    "from amsdal_glue import (\n",
    "    QueryStatement,\n",
    "    FieldReference,\n",
    "    Field,\n",
    "    Conditions,\n",
    "    Condition,\n",
    "    FieldLookup,\n",
    "    SubQueryStatement,\n",
    "    AggregationQuery,\n",
    "    Sum,\n",
    "    GroupByQuery,\n",
    ")\n",
    "\n",
    "sum_city_population_query = QueryStatement(\n",
    "    only=[\n",
    "        FieldReferenceAliased(field=Field(name=\"country_name\"), table_name=\"cts_codes\", alias=\"country_name\"),\n",
    "        FieldReferenceAliased(field=Field(name=\"population\"), table_name=\"cnt\", alias=\"country_population\"),\n",
    "    ],\n",
    "    aggregations=[\n",
    "        AggregationQuery(\n",
    "            expression=Sum(field=FieldReference(field=Field(name=\"city_population\"), table_name=\"cts_codes\")),\n",
    "            alias=\"city_population\",\n",
    "        ),\n",
    "    ],\n",
    "    table=SchemaReference(name=\"countries\", alias=\"cnt\", version=Version.LATEST),\n",
    "    joins=[\n",
    "        JoinQuery(\n",
    "            table=SubQueryStatement(query=cities_with_country_code_query, alias=\"cts_codes\"),\n",
    "            join_type=JoinType.LEFT,\n",
    "            on=Conditions(\n",
    "                Condition(\n",
    "                    left=FieldReferenceExpression(field_reference=FieldReference(field=Field(name=\"country_code\"), table_name=\"cts_codes\")),\n",
    "                    lookup=FieldLookup.EQ,\n",
    "                    right=FieldReferenceExpression(field_reference=FieldReference(field=Field(name=\"country_code\"), table_name=\"cnt\")),\n",
    "                ),\n",
    "            ),\n",
    "        ),\n",
    "    ],\n",
    "    group_by=[\n",
    "        GroupByQuery(\n",
    "            field=FieldReference(field=Field(name=\"country_name\"), table_name=\"cts_codes\"),\n",
    "        ),\n",
    "        GroupByQuery(\n",
    "            field=FieldReference(field=Field(name=\"population\"), table_name=\"cnt\"),\n",
    "        ),\n",
    "    ],\n",
    ")\n",
    "print(\"Query is defined!\")"
   ]
  },
  {
   "cell_type": "markdown",
   "id": "c8629e1b96720724",
   "metadata": {},
   "source": [
    "Let's execute this query to see the results:"
   ]
  },
  {
   "cell_type": "code",
   "execution_count": null,
   "id": "408439d09839d373",
   "metadata": {},
   "outputs": [],
   "source": [
    "from amsdal_glue import Container, DataQueryOperation\n",
    "from amsdal_glue.interfaces import DataQueryService\n",
    "\n",
    "service = Container.services.get(DataQueryService)\n",
    "result = service.execute(DataQueryOperation(query=sum_city_population_query))\n",
    "\n",
    "print('Success:', result.success)\n",
    "\n",
    "if not result.success:\n",
    "    print('Error:', result.message)\n",
    "else:\n",
    "    print('Found records (the first 5):', result.data[:5])"
   ]
  },
  {
   "cell_type": "markdown",
   "id": "1e4d230cf88326e",
   "metadata": {},
   "source": [
    "As we can see, now we have the `country_population` and the `city_population` columns for each country. The last transform step is to calculate the `non_city_population` column as the difference between the `country_population` and the `city_population`."
   ]
  },
  {
   "cell_type": "code",
   "execution_count": null,
   "id": "ae261b416b7bd686",
   "metadata": {},
   "outputs": [],
   "source": [
    "from amsdal_glue import (\n",
    "    QueryStatement,\n",
    "    FieldReferenceAliased,\n",
    "    FieldReference,\n",
    "    Field,\n",
    "    AnnotationQuery,\n",
    "    SubQueryStatement,\n",
    "    ExpressionAnnotation,\n",
    ")\n",
    "\n",
    "sum_non_city_population_query = QueryStatement(\n",
    "    only=[\n",
    "        FieldReferenceAliased(field=Field(name=\"country_name\"), table_name=\"pop\", alias=\"country_name\"),\n",
    "        FieldReferenceAliased(field=Field(name=\"city_population\"), table_name=\"pop\", alias=\"city_population\"),\n",
    "    ],\n",
    "    annotations=[\n",
    "        AnnotationQuery(\n",
    "            value=ExpressionAnnotation(\n",
    "                expression=FieldReference(\n",
    "                    field=Field(name='country_population'),\n",
    "                    table_name=\"pop\"\n",
    "                ) - FieldReference(\n",
    "                    field=Field(name='city_population'),\n",
    "                    table_name=\"pop\"\n",
    "                ),\n",
    "                alias='non_city_population',\n",
    "            ),\n",
    "        ),\n",
    "    ],\n",
    "    table=SubQueryStatement(query=sum_city_population_query, alias='pop'),\n",
    ")\n",
    "\n",
    "print(\"Query is defined!\")"
   ]
  },
  {
   "cell_type": "markdown",
   "id": "4d1de017c7c239a2",
   "metadata": {},
   "source": [
    "Let's execute this query to see the results:"
   ]
  },
  {
   "cell_type": "code",
   "execution_count": null,
   "id": "cbc5c5ae5bd3f15c",
   "metadata": {},
   "outputs": [],
   "source": [
    "from amsdal_glue import Container, DataQueryOperation\n",
    "from amsdal_glue.interfaces import DataQueryService\n",
    "\n",
    "service = Container.services.get(DataQueryService)\n",
    "summary_result = service.execute(DataQueryOperation(query=sum_non_city_population_query))\n",
    "\n",
    "print('Success:', summary_result.success)\n",
    "\n",
    "if not summary_result.success:\n",
    "    print('Error:', summary_result.message)\n",
    "else:\n",
    "    print('Found records (the first 5):', summary_result.data[:5])"
   ]
  },
  {
   "cell_type": "markdown",
   "id": "c28e43fa166aa331",
   "metadata": {},
   "source": [
    "Perfect! Now we are ready to go to the last step of ETL - to load the data into the `summary` table.\n",
    "\n",
    "## Load the data into the summary table\n",
    "\n",
    "In order to load the data into the `summary` table we need to create the table first."
   ]
  },
  {
   "cell_type": "code",
   "execution_count": null,
   "id": "f45ab5ab433f77af",
   "metadata": {},
   "outputs": [],
   "source": [
    "from amsdal_glue import Container, SchemaCommand, RegisterSchema, Version\n",
    "from amsdal_glue.interfaces import SchemaCommandService\n",
    "from amsdal_glue import Schema, PropertySchema, PrimaryKeyConstraint\n",
    "\n",
    "summary_schema = Schema(\n",
    "    name=\"summary\",\n",
    "    version=Version.LATEST,\n",
    "    properties=[\n",
    "        PropertySchema(\n",
    "            name=\"country_name\",\n",
    "            type=str,\n",
    "            required=True,\n",
    "        ),\n",
    "        PropertySchema(\n",
    "            name=\"city_population\",\n",
    "            type=int,\n",
    "            required=True,\n",
    "        ),\n",
    "        PropertySchema(\n",
    "            name=\"non_city_population\",\n",
    "            type=int,\n",
    "            required=True,\n",
    "        ),\n",
    "    ],\n",
    "    constraints=[\n",
    "        PrimaryKeyConstraint(name=\"pk_country_name\", fields=[\"country_name\"]),\n",
    "    ],\n",
    ")\n",
    "\n",
    "service = Container.services.get(SchemaCommandService)\n",
    "result = service.execute(\n",
    "    SchemaCommand(\n",
    "        mutations=[\n",
    "            RegisterSchema(schema=summary_schema),\n",
    "        ]\n",
    "    ),\n",
    ")\n",
    "\n",
    "print('Success:', result.success)\n",
    "print('Error details:', result.message)"
   ]
  },
  {
   "cell_type": "markdown",
   "id": "eb68966a35895baa",
   "metadata": {},
   "source": [
    "Now, let's load the data into the `summary` table:"
   ]
  },
  {
   "cell_type": "code",
   "execution_count": null,
   "id": "428812e2eb3ff267",
   "metadata": {},
   "outputs": [],
   "source": [
    "service = Container.services.get(DataCommandService)\n",
    "result = service.execute(\n",
    "    DataCommand(\n",
    "        mutations=[\n",
    "            InsertData(\n",
    "                schema=SchemaReference(name=\"summary\", version=Version.LATEST),\n",
    "                data=summary_result.data,\n",
    "            ),\n",
    "        ],\n",
    "    ),\n",
    ")"
   ]
  },
  {
   "cell_type": "markdown",
   "id": "487a5326f859707a",
   "metadata": {},
   "source": [
    "That's it! The data is loaded into the `summary` table.\n",
    "\n",
    "The AMSDAL Glue by default uses sub-processes to execute the sub-queries in parallel, although you are always able to implement your own logic to execute the queries in the way you need, e.g. by using queue to make it more reliable.\n",
    "\n",
    "## SQL queries for transformation\n",
    "\n",
    "By using the `amsdal-glue-sql-parser` package it's possible to do the same transformation we did above using raw SQL. Let's try it. The first of all, we need to install the package:"
   ]
  },
  {
   "cell_type": "code",
   "execution_count": null,
   "id": "b9589fc2cb476175",
   "metadata": {},
   "outputs": [],
   "source": [
    "!pip install \"amsdal-glue-sql-parser[sqloxide]\""
   ]
  },
  {
   "cell_type": "markdown",
   "id": "64f8bf930852c93d",
   "metadata": {},
   "source": [
    "Now, let's define the SQL queries for the transformation:"
   ]
  },
  {
   "cell_type": "code",
   "execution_count": null,
   "id": "b04e37c7203e02ca",
   "metadata": {},
   "outputs": [],
   "source": [
    "cities_with_country_code_sql = \"\"\"\n",
    "SELECT \n",
    "  cm.country_code, \n",
    "  c.Country, \n",
    "  c.City, \n",
    "  c.CityPopulation\n",
    "FROM\n",
    "    cities as c\n",
    "LEFT JOIN\n",
    "    countries_map as cm\n",
    "    ON c.Country = cm.country_name\n",
    "\"\"\"\n",
    "\n",
    "sum_city_population_sql = f\"\"\"\n",
    "SELECT \n",
    "  cts_codes.country_name, \n",
    "  cnt.population as country_population, \n",
    "  SUM(cts_codes.city_population) as city_population\n",
    "FROM\n",
    "  countries as cnt\n",
    "LEFT JOIN ({cities_with_country_code_query}) AS cts_codes\n",
    "  ON cts_codes.country_code = cnt.country_code\n",
    "GROUP BY\n",
    "    cts_codes.country_name, cnt.population\n",
    "\"\"\"\n",
    "\n",
    "summary_sql = f\"\"\"\n",
    "SELECT \n",
    "  pop.country_name, \n",
    "  pop.city_population, \n",
    "  (pop.country_population - pop.city_population) as non_city_population\n",
    "FROM ({sum_city_population_sql}) as pop\n",
    "\"\"\"\n",
    "\n",
    "print('SQL queries are defined!')"
   ]
  },
  {
   "cell_type": "markdown",
   "id": "b23d15788c38cad",
   "metadata": {},
   "source": [
    "Now, let's execute the `summary_sql` SQL query:"
   ]
  },
  {
   "cell_type": "code",
   "execution_count": null,
   "id": "9a924b2a2385e130",
   "metadata": {},
   "outputs": [],
   "source": [
    "from amsdal_glue_sql_parser.parsers.base import SqlParserBase\n",
    "from amsdal_glue import Container\n",
    "from amsdal_glue.interfaces import DataQueryService\n",
    "from amsdal_glue_sql_parser.parsers.sqloxide_parser import SqlOxideParser\n",
    "\n",
    "Container.services.register(SqlParserBase, SqlOxideParser)\n",
    "\n",
    "parser = Container.services.get(SqlParserBase)\n",
    "service = Container.services.get(DataQueryService)\n",
    "summary_result = service.execute(\n",
    "    query_op=parser.parse_sql(summary_sql)[0],\n",
    ")\n",
    "\n",
    "print('Success:', summary_result.success)\n",
    "\n",
    "if not result.success:\n",
    "    print('Error:', summary_result.message)\n",
    "else:\n",
    "    print('Found records (the first 5):', summary_result.data[:5])"
   ]
  },
  {
   "cell_type": "markdown",
   "id": "4bba6de0b64d2b9",
   "metadata": {},
   "source": [
    "As we can see the result is the same as we got using the AMSDAL Glue."
   ]
  }
 ],
 "metadata": {
  "kernelspec": {
   "display_name": "venv",
   "language": "python",
   "name": "python3"
  },
  "language_info": {
   "codemirror_mode": {
    "name": "ipython",
    "version": 3
   },
   "file_extension": ".py",
   "mimetype": "text/x-python",
   "name": "python",
   "nbconvert_exporter": "python",
   "pygments_lexer": "ipython3",
   "version": "3.11.11"
  }
 },
 "nbformat": 4,
 "nbformat_minor": 5
}
